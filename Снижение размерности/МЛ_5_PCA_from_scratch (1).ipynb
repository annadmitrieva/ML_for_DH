{
  "nbformat": 4,
  "nbformat_minor": 0,
  "metadata": {
    "colab": {
      "provenance": []
    },
    "kernelspec": {
      "name": "python3",
      "display_name": "Python 3"
    },
    "language_info": {
      "name": "python"
    }
  },
  "cells": [
    {
      "cell_type": "markdown",
      "source": [
        "# PCA from scratch"
      ],
      "metadata": {
        "id": "P4viPVOO_sfZ"
      }
    },
    {
      "cell_type": "markdown",
      "source": [
        "По этой статье: https://habr.com/ru/articles/304214/"
      ],
      "metadata": {
        "id": "M-XZs5YZ_Ly1"
      }
    },
    {
      "cell_type": "code",
      "source": [
        "import numpy as np"
      ],
      "metadata": {
        "id": "G2DJtl3Tait7"
      },
      "execution_count": null,
      "outputs": []
    },
    {
      "cell_type": "code",
      "source": [
        "import matplotlib.pyplot as plt"
      ],
      "metadata": {
        "id": "AUjfbXmAbh4R"
      },
      "execution_count": null,
      "outputs": []
    },
    {
      "cell_type": "code",
      "execution_count": null,
      "metadata": {
        "id": "FL6CIQbyaI2K"
      },
      "outputs": [],
      "source": [
        "x = np.arange(1,11)\n",
        "y = 2 * x + np.random.randn(10)*2\n",
        "X = np.vstack((x,y))"
      ]
    },
    {
      "cell_type": "code",
      "source": [
        "x"
      ],
      "metadata": {
        "colab": {
          "base_uri": "https://localhost:8080/"
        },
        "id": "bR4LhEOiakX5",
        "outputId": "7177d48a-b633-4bb8-a5e7-35accbef0319"
      },
      "execution_count": null,
      "outputs": [
        {
          "output_type": "execute_result",
          "data": {
            "text/plain": [
              "array([ 1,  2,  3,  4,  5,  6,  7,  8,  9, 10])"
            ]
          },
          "metadata": {},
          "execution_count": 4
        }
      ]
    },
    {
      "cell_type": "code",
      "source": [
        "y"
      ],
      "metadata": {
        "colab": {
          "base_uri": "https://localhost:8080/"
        },
        "id": "h3OLAeHoaqma",
        "outputId": "0144a962-706b-4f48-96ff-5e81bf2b5042"
      },
      "execution_count": null,
      "outputs": [
        {
          "output_type": "execute_result",
          "data": {
            "text/plain": [
              "array([ 4.56967196,  5.071352  ,  5.89793273,  7.91558847,  9.96789828,\n",
              "       12.85321708, 15.70358191, 15.353679  , 16.10769041, 17.48975731])"
            ]
          },
          "metadata": {},
          "execution_count": 5
        }
      ]
    },
    {
      "cell_type": "code",
      "source": [
        "X"
      ],
      "metadata": {
        "colab": {
          "base_uri": "https://localhost:8080/"
        },
        "id": "fMStfsJdXrXl",
        "outputId": "b86a5ace-41f9-48c0-9777-1faceb5aae6e"
      },
      "execution_count": null,
      "outputs": [
        {
          "output_type": "execute_result",
          "data": {
            "text/plain": [
              "array([[ 1.        ,  2.        ,  3.        ,  4.        ,  5.        ,\n",
              "         6.        ,  7.        ,  8.        ,  9.        , 10.        ],\n",
              "       [ 4.56967196,  5.071352  ,  5.89793273,  7.91558847,  9.96789828,\n",
              "        12.85321708, 15.70358191, 15.353679  , 16.10769041, 17.48975731]])"
            ]
          },
          "metadata": {},
          "execution_count": 6
        }
      ]
    },
    {
      "cell_type": "code",
      "source": [
        "plt.scatter(x, y)\n",
        "plt.axhline(y=0.0, color='black')\n",
        "plt.axvline(x=0.0, color='black')"
      ],
      "metadata": {
        "colab": {
          "base_uri": "https://localhost:8080/",
          "height": 447
        },
        "id": "jS90BzYBbma-",
        "outputId": "0765c718-70de-449d-ba13-b163220b15d5"
      },
      "execution_count": null,
      "outputs": [
        {
          "output_type": "execute_result",
          "data": {
            "text/plain": [
              "<matplotlib.lines.Line2D at 0x78de46ea1e90>"
            ]
          },
          "metadata": {},
          "execution_count": 7
        },
        {
          "output_type": "display_data",
          "data": {
            "text/plain": [
              "<Figure size 640x480 with 1 Axes>"
            ],
            "image/png": "[encoded data removed]"
          },
          "metadata": {}
        }
      ]
    },
    {
      "cell_type": "markdown",
      "source": [
        "В данной выборке у нас имеются два признака, сильно коррелирующие друг с другом. С помощью алгоритма PCA мы сможем легко найти признак-комбинацию и, ценой части информации, выразить оба этих признака одним новым."
      ],
      "metadata": {
        "id": "6PVkWIu9azOW"
      }
    },
    {
      "cell_type": "markdown",
      "source": [
        "Отцентрируем нашу выборку: линейно сдвинем ее так, чтобы средние значения признаков были равны 0"
      ],
      "metadata": {
        "id": "4tXzQvAybCIW"
      }
    },
    {
      "cell_type": "code",
      "source": [
        "Xcentered = (X[0] - x.mean(), X[1] - y.mean())"
      ],
      "metadata": {
        "id": "ozy_PM2katfN"
      },
      "execution_count": null,
      "outputs": []
    },
    {
      "cell_type": "code",
      "source": [
        "plt.scatter(Xcentered[0], Xcentered[1])\n",
        "plt.axhline(y=0.0, color='black')\n",
        "plt.axvline(x=0.0, color='black')"
      ],
      "metadata": {
        "colab": {
          "base_uri": "https://localhost:8080/",
          "height": 447
        },
        "id": "Idot1YWybeUm",
        "outputId": "9f9ddb1d-7ce9-44cd-f1cc-e19343c1a17f"
      },
      "execution_count": null,
      "outputs": [
        {
          "output_type": "execute_result",
          "data": {
            "text/plain": [
              "<matplotlib.lines.Line2D at 0x78de474ab590>"
            ]
          },
          "metadata": {},
          "execution_count": 9
        },
        {
          "output_type": "display_data",
          "data": {
            "text/plain": [
              "<Figure size 640x480 with 1 Axes>"
            ],
            "image/png": "[encoded data removed]"
          },
          "metadata": {}
        }
      ]
    },
    {
      "cell_type": "markdown",
      "source": [
        "Построим ковариационную матрицу -т.е. матрицу корреляций между признаками:"
      ],
      "metadata": {
        "id": "7lWJQybVdMna"
      }
    },
    {
      "cell_type": "code",
      "source": [
        "covmat = np.cov(Xcentered)"
      ],
      "metadata": {
        "id": "jt1K2ovebxx5"
      },
      "execution_count": null,
      "outputs": []
    },
    {
      "cell_type": "markdown",
      "source": [
        "В матрице по главной диагонали будут дисперсии признаков, а в остальных ячейках – ковариации соответствующих пар признаков:\n"
      ],
      "metadata": {
        "id": "sDJW_AA3eAKP"
      }
    },
    {
      "cell_type": "code",
      "source": [
        "covmat"
      ],
      "metadata": {
        "colab": {
          "base_uri": "https://localhost:8080/"
        },
        "id": "U3yDcxxRdyEe",
        "outputId": "5800f3ee-8237-4841-af86-934e3ab35d20"
      },
      "execution_count": null,
      "outputs": [
        {
          "output_type": "execute_result",
          "data": {
            "text/plain": [
              "array([[ 9.16666667, 14.83684263],\n",
              "       [14.83684263, 25.08215715]])"
            ]
          },
          "metadata": {},
          "execution_count": 11
        }
      ]
    },
    {
      "cell_type": "code",
      "source": [
        "print(\"Variance of X: \", np.cov(Xcentered)[0,0])\n",
        "print(\"Variance of Y: \", np.cov(Xcentered)[1,1])\n",
        "print(\"Covariance X and Y: \", np.cov(Xcentered)[0,1])"
      ],
      "metadata": {
        "colab": {
          "base_uri": "https://localhost:8080/"
        },
        "id": "j15aYEh9dy3J",
        "outputId": "09142e7c-89a6-4249-e694-28e3c6a4dce5"
      },
      "execution_count": null,
      "outputs": [
        {
          "output_type": "stream",
          "name": "stdout",
          "text": [
            "Variance of X:  9.166666666666666\n",
            "Variance of Y:  25.082157148509427\n",
            "Covariance X and Y:  14.836842634700982\n"
          ]
        }
      ]
    },
    {
      "cell_type": "markdown",
      "source": [
        "Найдем собственные вектора и значения:"
      ],
      "metadata": {
        "id": "jTIfIt1Je03K"
      }
    },
    {
      "cell_type": "code",
      "source": [
        "eigenvals, eigenvecs = np.linalg.eig(covmat)"
      ],
      "metadata": {
        "id": "TAFwJMoFd5Mq"
      },
      "execution_count": null,
      "outputs": []
    },
    {
      "cell_type": "code",
      "source": [
        "eigenvals"
      ],
      "metadata": {
        "colab": {
          "base_uri": "https://localhost:8080/"
        },
        "id": "VnfYvIm8xxOR",
        "outputId": "55dbc401-301d-42cd-d475-20efdc80f60c"
      },
      "execution_count": null,
      "outputs": [
        {
          "output_type": "execute_result",
          "data": {
            "text/plain": [
              "array([ 0.28821255, 33.96061126])"
            ]
          },
          "metadata": {},
          "execution_count": 14
        }
      ]
    },
    {
      "cell_type": "code",
      "source": [
        "eigenvecs"
      ],
      "metadata": {
        "colab": {
          "base_uri": "https://localhost:8080/"
        },
        "id": "KQw_L6FCxydU",
        "outputId": "54431826-2381-4437-e4ff-eabc2a5fb523"
      },
      "execution_count": null,
      "outputs": [
        {
          "output_type": "execute_result",
          "data": {
            "text/plain": [
              "array([[-0.85809582, -0.5134896 ],\n",
              "       [ 0.5134896 , -0.85809582]])"
            ]
          },
          "metadata": {},
          "execution_count": 15
        }
      ]
    },
    {
      "cell_type": "markdown",
      "source": [
        "Отсортируем собственные значения по убыванию:"
      ],
      "metadata": {
        "id": "TyKeVTZKxu3b"
      }
    },
    {
      "cell_type": "code",
      "source": [
        "sorted_index = np.argsort(eigenvals)[::-1]\n",
        "sorted_eigenvalues = eigenvals[sorted_index]\n",
        "sorted_eigenvectors = eigenvecs[:,sorted_index]"
      ],
      "metadata": {
        "id": "acsYBQUSh9sv"
      },
      "execution_count": null,
      "outputs": []
    },
    {
      "cell_type": "code",
      "source": [
        "sorted_eigenvectors"
      ],
      "metadata": {
        "colab": {
          "base_uri": "https://localhost:8080/"
        },
        "id": "_CnviD2fe7p5",
        "outputId": "d566dc92-8563-41bd-9ee6-67023f41ddf2"
      },
      "execution_count": null,
      "outputs": [
        {
          "output_type": "execute_result",
          "data": {
            "text/plain": [
              "array([[-0.5134896 , -0.85809582],\n",
              "       [-0.85809582,  0.5134896 ]])"
            ]
          },
          "metadata": {},
          "execution_count": 17
        }
      ]
    },
    {
      "cell_type": "markdown",
      "source": [
        "Посмотрим, сколько дисперсии объясняет каждое значение:"
      ],
      "metadata": {
        "id": "w4FWVRaCyx40"
      }
    },
    {
      "cell_type": "code",
      "source": [
        "eig_vals_total = sum(sorted_eigenvalues)\n",
        "explained_variance = [(i / eig_vals_total)*100 for i in sorted_eigenvalues]\n",
        "explained_variance = np.round(explained_variance, 2)\n",
        "cum_explained_variance = np.cumsum(explained_variance)"
      ],
      "metadata": {
        "id": "fHmYADPae-4B"
      },
      "execution_count": null,
      "outputs": []
    },
    {
      "cell_type": "code",
      "source": [
        "print('Explained variance: {}'.format(explained_variance))\n",
        "print('Cumulative explained variance: {}'.format(cum_explained_variance))"
      ],
      "metadata": {
        "colab": {
          "base_uri": "https://localhost:8080/"
        },
        "id": "8gQ5UkHWzOXy",
        "outputId": "d19ab760-59b2-450b-a9ca-cb0cb8608fc8"
      },
      "execution_count": null,
      "outputs": [
        {
          "output_type": "stream",
          "name": "stdout",
          "text": [
            "Explained variance: [99.16  0.84]\n",
            "Cumulative explained variance: [ 99.16 100.  ]\n"
          ]
        }
      ]
    },
    {
      "cell_type": "markdown",
      "source": [
        "Снизим размерность до 1:"
      ],
      "metadata": {
        "id": "GBMQbUehzoqu"
      }
    },
    {
      "cell_type": "code",
      "source": [
        "n_components = 1\n",
        "W = sorted_eigenvectors[:n_components, :] # Projection matrix\n",
        "\n",
        "print(W.shape)"
      ],
      "metadata": {
        "colab": {
          "base_uri": "https://localhost:8080/"
        },
        "id": "RYTgwxgIzRtA",
        "outputId": "9bf30d3b-88d0-469d-d89b-f0eb1df89793"
      },
      "execution_count": null,
      "outputs": [
        {
          "output_type": "stream",
          "name": "stdout",
          "text": [
            "(1, 2)\n"
          ]
        }
      ]
    },
    {
      "cell_type": "code",
      "source": [
        "W"
      ],
      "metadata": {
        "colab": {
          "base_uri": "https://localhost:8080/"
        },
        "id": "Cl-WF2U52Ibo",
        "outputId": "63302c3f-b168-4dba-b04f-9df8bcf081ab"
      },
      "execution_count": null,
      "outputs": [
        {
          "output_type": "execute_result",
          "data": {
            "text/plain": [
              "array([[-0.5134896 , -0.85809582]])"
            ]
          },
          "metadata": {},
          "execution_count": 21
        }
      ]
    },
    {
      "cell_type": "markdown",
      "source": [
        "Трансформируем данные:"
      ],
      "metadata": {
        "id": "dXfemOQ7zwdq"
      }
    },
    {
      "cell_type": "code",
      "source": [
        "X_reduced = np.dot(W, np.array(Xcentered))"
      ],
      "metadata": {
        "id": "NU6hAfPXznuF"
      },
      "execution_count": null,
      "outputs": []
    },
    {
      "cell_type": "code",
      "source": [
        "X_reduced"
      ],
      "metadata": {
        "colab": {
          "base_uri": "https://localhost:8080/"
        },
        "id": "6warLq3k3IZb",
        "outputId": "f0454536-8c88-40c3-9017-ffe1114fb50d"
      },
      "execution_count": null,
      "outputs": [
        {
          "output_type": "execute_result",
          "data": {
            "text/plain": [
              "array([[ 7.90837537,  6.96439623,  5.74162117,  3.49678962,  1.22222156,\n",
              "        -1.76714804, -4.72652377, -4.93976315, -6.10026678, -7.79970221]])"
            ]
          },
          "metadata": {},
          "execution_count": 23
        }
      ]
    },
    {
      "cell_type": "markdown",
      "source": [
        "Сравним с PCA из sklearn:"
      ],
      "metadata": {
        "id": "i0B-D7wD9dGY"
      }
    },
    {
      "cell_type": "code",
      "source": [
        "from sklearn.decomposition import PCA\n",
        "pca = PCA(n_components = 1)\n",
        "XPCAreduced = pca.fit_transform(X.transpose())"
      ],
      "metadata": {
        "id": "LJOUCPct3SA0"
      },
      "execution_count": null,
      "outputs": []
    },
    {
      "cell_type": "code",
      "source": [
        "XPCAreduced"
      ],
      "metadata": {
        "colab": {
          "base_uri": "https://localhost:8080/"
        },
        "id": "1FKMEaNe3XxN",
        "outputId": "3a8122a6-b0a4-4edf-c82d-b3794b575572"
      },
      "execution_count": null,
      "outputs": [
        {
          "output_type": "execute_result",
          "data": {
            "text/plain": [
              "array([[-7.90837537],\n",
              "       [-6.96439623],\n",
              "       [-5.74162117],\n",
              "       [-3.49678962],\n",
              "       [-1.22222156],\n",
              "       [ 1.76714804],\n",
              "       [ 4.72652377],\n",
              "       [ 4.93976315],\n",
              "       [ 6.10026678],\n",
              "       [ 7.79970221]])"
            ]
          },
          "metadata": {},
          "execution_count": 25
        }
      ]
    },
    {
      "cell_type": "code",
      "source": [
        "print('Projection: ', pca.components_, W)\n",
        "print('Explained variance ratio: ', pca.explained_variance_ratio_, explained_variance)"
      ],
      "metadata": {
        "colab": {
          "base_uri": "https://localhost:8080/"
        },
        "id": "Q92qN1Vo3e00",
        "outputId": "2186a854-87eb-47a0-c865-5b4887070306"
      },
      "execution_count": null,
      "outputs": [
        {
          "output_type": "stream",
          "name": "stdout",
          "text": [
            "Projection:  [[0.5134896  0.85809582]] [[-0.5134896  -0.85809582]]\n",
            "Explained variance ratio:  [0.99158475] [99.16  0.84]\n"
          ]
        }
      ]
    },
    {
      "cell_type": "code",
      "source": [],
      "metadata": {
        "id": "Km6psjRSmMt7"
      },
      "execution_count": null,
      "outputs": []
    }
  ]
}