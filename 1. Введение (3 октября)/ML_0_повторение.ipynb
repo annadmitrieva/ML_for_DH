{
  "nbformat": 4,
  "nbformat_minor": 0,
  "metadata": {
    "colab": {
      "provenance": [],
      "toc_visible": true
    },
    "kernelspec": {
      "name": "python3",
      "display_name": "Python 3"
    },
    "language_info": {
      "name": "python"
    }
  },
  "cells": [
    {
      "cell_type": "markdown",
      "source": [
        "## Повторение: NumPy"
      ],
      "metadata": {
        "id": "w3ZM_vyyh5XW"
      }
    },
    {
      "cell_type": "markdown",
      "source": [
        "NumPy - это библиотека для работы с матрицами. Мы довольно часто будем сталкиваться с ней во время работы с scikit-learn, поэтому давайте вспомним некоторые базовые вещи."
      ],
      "metadata": {
        "id": "Bnv8SEHyiAsO"
      }
    },
    {
      "cell_type": "code",
      "source": [
        "import numpy as np"
      ],
      "metadata": {
        "id": "N3gN-ZUVL5xe"
      },
      "execution_count": null,
      "outputs": []
    },
    {
      "cell_type": "markdown",
      "source": [
        "Создадим массив и узнаем его размерность при помощи метода shape:"
      ],
      "metadata": {
        "id": "1lv3q0etk1-_"
      }
    },
    {
      "cell_type": "code",
      "source": [
        "arr = np.array([1, 2, 3])"
      ],
      "metadata": {
        "id": "ZyieGVHbkyJo"
      },
      "execution_count": null,
      "outputs": []
    },
    {
      "cell_type": "code",
      "source": [
        "arr.shape"
      ],
      "metadata": {
        "colab": {
          "base_uri": "https://localhost:8080/"
        },
        "id": "i_3lQo6blClR",
        "outputId": "8fe7a437-8abb-4ebd-ef90-cb951bab7bd4"
      },
      "execution_count": null,
      "outputs": [
        {
          "output_type": "execute_result",
          "data": {
            "text/plain": [
              "(3,)"
            ]
          },
          "metadata": {},
          "execution_count": 3
        }
      ]
    },
    {
      "cell_type": "code",
      "source": [
        "arr.T"
      ],
      "metadata": {
        "colab": {
          "base_uri": "https://localhost:8080/"
        },
        "id": "K9NwYvNw32T1",
        "outputId": "b99aea93-05b9-4c9f-a9d8-5ab3afc870d9"
      },
      "execution_count": null,
      "outputs": [
        {
          "output_type": "execute_result",
          "data": {
            "text/plain": [
              "array([1, 2, 3])"
            ]
          },
          "metadata": {},
          "execution_count": 4
        }
      ]
    },
    {
      "cell_type": "markdown",
      "source": [
        "Можно менять размерность при помощи добавления квадратных скобок:"
      ],
      "metadata": {
        "id": "IuO92ywrlQP5"
      }
    },
    {
      "cell_type": "code",
      "source": [
        "np.array([[1, 2, 3]]).shape"
      ],
      "metadata": {
        "colab": {
          "base_uri": "https://localhost:8080/"
        },
        "id": "uX7hH8P-lEpu",
        "outputId": "eff53e2f-70bb-4ae7-bf8d-2156a8437443"
      },
      "execution_count": null,
      "outputs": [
        {
          "output_type": "execute_result",
          "data": {
            "text/plain": [
              "(1, 3)"
            ]
          },
          "metadata": {},
          "execution_count": 4
        }
      ]
    },
    {
      "cell_type": "code",
      "source": [
        "np.array([[[1, 2, 3]]]).shape"
      ],
      "metadata": {
        "colab": {
          "base_uri": "https://localhost:8080/"
        },
        "id": "aErleVGmlKeI",
        "outputId": "919e3d25-97d2-4723-cd30-1f64f25eb8b0"
      },
      "execution_count": null,
      "outputs": [
        {
          "output_type": "execute_result",
          "data": {
            "text/plain": [
              "(1, 1, 3)"
            ]
          },
          "metadata": {},
          "execution_count": 5
        }
      ]
    },
    {
      "cell_type": "code",
      "source": [
        "arr_2d = np.array([[1, 2, 3]])\n",
        "\n",
        "print(\"Размер вдоль каждой оси:\", arr_2d.shape)\n",
        "print(\"Размерность:\", arr_2d.ndim)\n",
        "print(\"Количество элементов:\", arr_2d.size)\n",
        "print(\"Тип данных элементов:\", arr_2d.dtype)"
      ],
      "metadata": {
        "colab": {
          "base_uri": "https://localhost:8080/"
        },
        "id": "3e2UjMIdlUQ7",
        "outputId": "235daee7-5185-4b9e-ebc2-af857570dbcf"
      },
      "execution_count": null,
      "outputs": [
        {
          "output_type": "stream",
          "name": "stdout",
          "text": [
            "Размер вдоль каждой оси: (1, 3)\n",
            "Размерность: 2\n",
            "Количество элементов: 3\n",
            "Тип данных элементов: int64\n"
          ]
        }
      ]
    },
    {
      "cell_type": "markdown",
      "source": [
        "Большинство объектов sklearn работают с двумерными массивами. Изменить размерность массива можно с помощью функции reshape:"
      ],
      "metadata": {
        "id": "WtRrwB7nttU_"
      }
    },
    {
      "cell_type": "code",
      "source": [
        "arr"
      ],
      "metadata": {
        "colab": {
          "base_uri": "https://localhost:8080/"
        },
        "id": "ZmOGeONbRzwl",
        "outputId": "9edc9a68-1528-493d-d000-c49f62491b6f"
      },
      "execution_count": null,
      "outputs": [
        {
          "output_type": "execute_result",
          "data": {
            "text/plain": [
              "array([1, 2, 3])"
            ]
          },
          "metadata": {},
          "execution_count": 7
        }
      ]
    },
    {
      "cell_type": "code",
      "source": [
        "np.reshape(arr, (1, 3))"
      ],
      "metadata": {
        "colab": {
          "base_uri": "https://localhost:8080/"
        },
        "id": "HGLpbr4HnoII",
        "outputId": "372ff825-0537-427a-a41a-1eb927def5d2"
      },
      "execution_count": null,
      "outputs": [
        {
          "output_type": "execute_result",
          "data": {
            "text/plain": [
              "array([[1, 2, 3]])"
            ]
          },
          "metadata": {},
          "execution_count": 8
        }
      ]
    },
    {
      "cell_type": "markdown",
      "source": [
        "Если подавать в классификаторы и другие объекты классов sklearn одномерные массивы, можно столкнуться с ошибкой, которая говорит следующее: Reshape your data either using array.reshape(-1, 1) if your data has a single feature or array.reshape(1, -1) if it contains a single sample. Посмотрим, в чем разница:"
      ],
      "metadata": {
        "id": "UJkG5HAZt7m5"
      }
    },
    {
      "cell_type": "code",
      "source": [
        "single_feature = np.array([1, 2, 3]).reshape(-1, 1)"
      ],
      "metadata": {
        "id": "vYGmRmdCt7A9"
      },
      "execution_count": null,
      "outputs": []
    },
    {
      "cell_type": "code",
      "source": [
        "single_feature"
      ],
      "metadata": {
        "colab": {
          "base_uri": "https://localhost:8080/"
        },
        "id": "LGMwrxBluf-S",
        "outputId": "b8ec52ab-b8fd-465b-cb99-db78da318244"
      },
      "execution_count": null,
      "outputs": [
        {
          "output_type": "execute_result",
          "data": {
            "text/plain": [
              "array([[1],\n",
              "       [2],\n",
              "       [3]])"
            ]
          },
          "metadata": {},
          "execution_count": 6
        }
      ]
    },
    {
      "cell_type": "code",
      "source": [
        "single_feature.T.T"
      ],
      "metadata": {
        "colab": {
          "base_uri": "https://localhost:8080/"
        },
        "id": "WaNWsnI-36-0",
        "outputId": "e7817240-5231-47cb-a7c9-f309bfa95d40"
      },
      "execution_count": null,
      "outputs": [
        {
          "output_type": "execute_result",
          "data": {
            "text/plain": [
              "array([[1],\n",
              "       [2],\n",
              "       [3]])"
            ]
          },
          "metadata": {},
          "execution_count": 10
        }
      ]
    },
    {
      "cell_type": "code",
      "source": [
        "single_feature.shape"
      ],
      "metadata": {
        "colab": {
          "base_uri": "https://localhost:8080/"
        },
        "id": "wm2V4QjBuhE3",
        "outputId": "69e3a12f-f3b6-49b1-9963-2df6b526d95b"
      },
      "execution_count": null,
      "outputs": [
        {
          "output_type": "execute_result",
          "data": {
            "text/plain": [
              "(3, 1)"
            ]
          },
          "metadata": {},
          "execution_count": 11
        }
      ]
    },
    {
      "cell_type": "code",
      "source": [
        "single_sample = np.array([1, 2, 3]).reshape(1, -1)"
      ],
      "metadata": {
        "id": "RRRWfH6luYH8"
      },
      "execution_count": null,
      "outputs": []
    },
    {
      "cell_type": "code",
      "source": [
        "? np.reshape"
      ],
      "metadata": {
        "id": "JhOT-gD44Mfu"
      },
      "execution_count": null,
      "outputs": []
    },
    {
      "cell_type": "code",
      "source": [
        "single_sample"
      ],
      "metadata": {
        "colab": {
          "base_uri": "https://localhost:8080/"
        },
        "id": "dEN6U8lrukxB",
        "outputId": "e0f7943e-477e-4770-e039-ae6057a6e47e"
      },
      "execution_count": null,
      "outputs": [
        {
          "output_type": "execute_result",
          "data": {
            "text/plain": [
              "array([[1, 2, 3]])"
            ]
          },
          "metadata": {},
          "execution_count": 13
        }
      ]
    },
    {
      "cell_type": "code",
      "source": [
        "single_sample.shape"
      ],
      "metadata": {
        "colab": {
          "base_uri": "https://localhost:8080/"
        },
        "id": "yPs0YocMul1h",
        "outputId": "a7470401-5287-468e-a6f6-f09a6018b716"
      },
      "execution_count": null,
      "outputs": [
        {
          "output_type": "execute_result",
          "data": {
            "text/plain": [
              "(1, 3)"
            ]
          },
          "metadata": {},
          "execution_count": 14
        }
      ]
    },
    {
      "cell_type": "markdown",
      "source": [
        "Numpy поддерживает все матричные операции: сложение, умножение, транспонирование и т.п."
      ],
      "metadata": {
        "id": "WcuOKvpyvF3Z"
      }
    },
    {
      "cell_type": "code",
      "source": [
        "arr_a = np.array([[1, 2, 3]])\n",
        "arr_b = np.array([[4, 5, 6]])"
      ],
      "metadata": {
        "id": "tbp3rM8VunI3"
      },
      "execution_count": null,
      "outputs": []
    },
    {
      "cell_type": "code",
      "source": [
        "np.add(arr_a, arr_b)"
      ],
      "metadata": {
        "colab": {
          "base_uri": "https://localhost:8080/"
        },
        "id": "uSKl0zGwvgMf",
        "outputId": "047ca929-8ceb-4bae-dde9-2369dd81bceb"
      },
      "execution_count": null,
      "outputs": [
        {
          "output_type": "execute_result",
          "data": {
            "text/plain": [
              "array([[5, 7, 9]])"
            ]
          },
          "metadata": {},
          "execution_count": 16
        }
      ]
    },
    {
      "cell_type": "code",
      "source": [
        "arr_a + 1"
      ],
      "metadata": {
        "colab": {
          "base_uri": "https://localhost:8080/"
        },
        "id": "TkhA6DAfvyVT",
        "outputId": "d1b8bdcd-4444-4ce2-f09c-db5cded40636"
      },
      "execution_count": null,
      "outputs": [
        {
          "output_type": "execute_result",
          "data": {
            "text/plain": [
              "array([[2, 3, 4]])"
            ]
          },
          "metadata": {},
          "execution_count": 17
        }
      ]
    },
    {
      "cell_type": "code",
      "source": [
        "arr_a * 2"
      ],
      "metadata": {
        "colab": {
          "base_uri": "https://localhost:8080/"
        },
        "id": "Kr5fmwaxv2ft",
        "outputId": "1ea48656-6e31-4f7a-fa14-ecb8d233835f"
      },
      "execution_count": null,
      "outputs": [
        {
          "output_type": "execute_result",
          "data": {
            "text/plain": [
              "array([[2, 4, 6]])"
            ]
          },
          "metadata": {},
          "execution_count": 18
        }
      ]
    },
    {
      "cell_type": "code",
      "source": [
        "arr_a.T"
      ],
      "metadata": {
        "colab": {
          "base_uri": "https://localhost:8080/"
        },
        "id": "WuzY7DROwSD4",
        "outputId": "d2334f65-7a56-45c7-e514-14022b79fc82"
      },
      "execution_count": null,
      "outputs": [
        {
          "output_type": "execute_result",
          "data": {
            "text/plain": [
              "array([[1],\n",
              "       [2],\n",
              "       [3]])"
            ]
          },
          "metadata": {},
          "execution_count": 19
        }
      ]
    },
    {
      "cell_type": "code",
      "source": [
        "np.dot(arr_a, arr_b.T)"
      ],
      "metadata": {
        "colab": {
          "base_uri": "https://localhost:8080/"
        },
        "id": "nRjSFu_dv4vT",
        "outputId": "0ae07fa2-7f80-4880-e426-89264e550280"
      },
      "execution_count": null,
      "outputs": [
        {
          "output_type": "execute_result",
          "data": {
            "text/plain": [
              "array([[32]])"
            ]
          },
          "metadata": {},
          "execution_count": 20
        }
      ]
    },
    {
      "cell_type": "markdown",
      "source": [
        "Также с массивами можно делать некоторые вещи из тех, что можно делать со списками: сортировать, разворачивать и т.п."
      ],
      "metadata": {
        "id": "ERUtMfEkwaBv"
      }
    },
    {
      "cell_type": "code",
      "source": [
        "arr_c = np.array([[1, 2, 3], [4, 5, 6]])\n",
        "arr_d = np.array([0, 3, 2, 1, 4, 0])"
      ],
      "metadata": {
        "id": "3v5HwA1wwZi4"
      },
      "execution_count": null,
      "outputs": []
    },
    {
      "cell_type": "code",
      "source": [
        "np.sort(arr_d)"
      ],
      "metadata": {
        "colab": {
          "base_uri": "https://localhost:8080/"
        },
        "id": "XYU8-9EAxSDN",
        "outputId": "d014035c-88e3-4da8-8e7f-0df87493890c"
      },
      "execution_count": null,
      "outputs": [
        {
          "output_type": "execute_result",
          "data": {
            "text/plain": [
              "array([0, 0, 1, 2, 3, 4])"
            ]
          },
          "metadata": {},
          "execution_count": 22
        }
      ]
    },
    {
      "cell_type": "code",
      "source": [
        "np.argsort(arr_d)"
      ],
      "metadata": {
        "colab": {
          "base_uri": "https://localhost:8080/"
        },
        "id": "gw9Xg3paxVyU",
        "outputId": "aa4a66c7-024b-479d-c6fe-4ee8c088f679"
      },
      "execution_count": null,
      "outputs": [
        {
          "output_type": "execute_result",
          "data": {
            "text/plain": [
              "array([0, 5, 3, 2, 1, 4])"
            ]
          },
          "metadata": {},
          "execution_count": 23
        }
      ]
    },
    {
      "cell_type": "code",
      "source": [
        "arr_c[::-1]"
      ],
      "metadata": {
        "colab": {
          "base_uri": "https://localhost:8080/"
        },
        "id": "nC_CnWYQx2AH",
        "outputId": "83f7653f-9e51-4bf6-c545-082ca275ccc4"
      },
      "execution_count": null,
      "outputs": [
        {
          "output_type": "execute_result",
          "data": {
            "text/plain": [
              "array([[4, 5, 6],\n",
              "       [1, 2, 3]])"
            ]
          },
          "metadata": {},
          "execution_count": 24
        }
      ]
    },
    {
      "cell_type": "code",
      "source": [
        "arr_c[:, ::-1]"
      ],
      "metadata": {
        "colab": {
          "base_uri": "https://localhost:8080/"
        },
        "id": "-Dor5u9Kx5tB",
        "outputId": "99254bac-ef2c-4efb-ef58-9a2e03f532d8"
      },
      "execution_count": null,
      "outputs": [
        {
          "output_type": "execute_result",
          "data": {
            "text/plain": [
              "array([[3, 2, 1],\n",
              "       [6, 5, 4]])"
            ]
          },
          "metadata": {},
          "execution_count": 25
        }
      ]
    },
    {
      "cell_type": "markdown",
      "source": [
        "Наконец, массивы можно объединять различными способами:"
      ],
      "metadata": {
        "id": "Jj9zyUW0x_AD"
      }
    },
    {
      "cell_type": "code",
      "source": [
        "arr_a"
      ],
      "metadata": {
        "colab": {
          "base_uri": "https://localhost:8080/"
        },
        "id": "pW_CIcIGTSZt",
        "outputId": "607ec9e1-1ed8-402c-b9b4-fa5ea02ec3c7"
      },
      "execution_count": null,
      "outputs": [
        {
          "output_type": "execute_result",
          "data": {
            "text/plain": [
              "array([[1, 2, 3]])"
            ]
          },
          "metadata": {},
          "execution_count": 26
        }
      ]
    },
    {
      "cell_type": "code",
      "source": [
        "arr_b"
      ],
      "metadata": {
        "colab": {
          "base_uri": "https://localhost:8080/"
        },
        "id": "GvQuUxbnTTqh",
        "outputId": "2cad2bbc-872c-4e7f-a292-cc38c8ed59a6"
      },
      "execution_count": null,
      "outputs": [
        {
          "output_type": "execute_result",
          "data": {
            "text/plain": [
              "array([[4, 5, 6]])"
            ]
          },
          "metadata": {},
          "execution_count": 27
        }
      ]
    },
    {
      "cell_type": "code",
      "source": [
        "np.hstack([arr_a, arr_b])"
      ],
      "metadata": {
        "colab": {
          "base_uri": "https://localhost:8080/"
        },
        "id": "s19YY2zpyGNs",
        "outputId": "3e76b867-28aa-4457-f83d-bd08cbabe0ba"
      },
      "execution_count": null,
      "outputs": [
        {
          "output_type": "execute_result",
          "data": {
            "text/plain": [
              "array([[1, 2, 3, 4, 5, 6]])"
            ]
          },
          "metadata": {},
          "execution_count": 28
        }
      ]
    },
    {
      "cell_type": "code",
      "source": [
        "np.vstack([arr_a, arr_b])"
      ],
      "metadata": {
        "colab": {
          "base_uri": "https://localhost:8080/"
        },
        "id": "SpUO3E_EyLYd",
        "outputId": "9ac5b49e-7b08-4f46-8dff-c1cccbbda711"
      },
      "execution_count": null,
      "outputs": [
        {
          "output_type": "execute_result",
          "data": {
            "text/plain": [
              "array([[1, 2, 3],\n",
              "       [4, 5, 6]])"
            ]
          },
          "metadata": {},
          "execution_count": 29
        }
      ]
    },
    {
      "cell_type": "code",
      "source": [
        "np.dstack([arr_a, arr_b])"
      ],
      "metadata": {
        "colab": {
          "base_uri": "https://localhost:8080/"
        },
        "id": "SwfShaxkyPK7",
        "outputId": "578b881f-d0fd-415f-9eb7-8b5b908a2632"
      },
      "execution_count": null,
      "outputs": [
        {
          "output_type": "execute_result",
          "data": {
            "text/plain": [
              "array([[[1, 4],\n",
              "        [2, 5],\n",
              "        [3, 6]]])"
            ]
          },
          "metadata": {},
          "execution_count": 30
        }
      ]
    },
    {
      "cell_type": "code",
      "source": [
        "np.concatenate([arr_a, arr_b], axis=0)"
      ],
      "metadata": {
        "colab": {
          "base_uri": "https://localhost:8080/"
        },
        "id": "KzFzz9I8yen6",
        "outputId": "434eb7bb-1573-47f9-f8a0-2df66915d991"
      },
      "execution_count": null,
      "outputs": [
        {
          "output_type": "execute_result",
          "data": {
            "text/plain": [
              "array([[1, 2, 3],\n",
              "       [4, 5, 6]])"
            ]
          },
          "metadata": {},
          "execution_count": 31
        }
      ]
    },
    {
      "cell_type": "code",
      "source": [
        "np.concatenate([arr_a, arr_b], axis=1)"
      ],
      "metadata": {
        "colab": {
          "base_uri": "https://localhost:8080/"
        },
        "id": "-YxP9semyiiW",
        "outputId": "eeb8b4b3-3d16-4a61-eb3e-69bc4b4c4af7"
      },
      "execution_count": null,
      "outputs": [
        {
          "output_type": "execute_result",
          "data": {
            "text/plain": [
              "array([[1, 2, 3, 4, 5, 6]])"
            ]
          },
          "metadata": {},
          "execution_count": 32
        }
      ]
    },
    {
      "cell_type": "code",
      "source": [
        "np.stack([arr_a, arr_b])"
      ],
      "metadata": {
        "colab": {
          "base_uri": "https://localhost:8080/"
        },
        "id": "WUzV6tkDzh5Z",
        "outputId": "fc7fc535-994e-475d-cd20-cd142b551103"
      },
      "execution_count": null,
      "outputs": [
        {
          "output_type": "execute_result",
          "data": {
            "text/plain": [
              "array([[[1, 2, 3]],\n",
              "\n",
              "       [[4, 5, 6]]])"
            ]
          },
          "metadata": {},
          "execution_count": 33
        }
      ]
    },
    {
      "cell_type": "markdown",
      "source": [
        "# Повторение: векторайзеры"
      ],
      "metadata": {
        "id": "-lEwV3QpUUTa"
      }
    },
    {
      "cell_type": "markdown",
      "source": [
        "Вспомним, что **векторайзеры** превращают тексты в вектора слов. Рассмотрим небольшой игрушечный пример, чтобы понять, как именно это происходит."
      ],
      "metadata": {
        "id": "rKCEA9iWEnIW"
      }
    },
    {
      "cell_type": "code",
      "source": [
        "corpus = ['Бегемот шел по улице',\n",
        "          'Бегемот - черный кот',\n",
        "          'Черный кот шел по улице']"
      ],
      "metadata": {
        "id": "b6dkPY9GGUhY"
      },
      "execution_count": null,
      "outputs": []
    },
    {
      "cell_type": "markdown",
      "source": [
        "**CountVectorizer** - это простой векторайзер, который превращает коллекцию текстов в разреженную матрицу размера N*M, где N - количество текстов в коллекции, а M - количество уникальных слов (а разреженная матрица - это такая матрица, где много нулей). Числа в этой матрице соответствуют количеству раз, когда определенное слово встретилось в определенном документе."
      ],
      "metadata": {
        "id": "aTnpypac1W0S"
      }
    },
    {
      "cell_type": "markdown",
      "source": [
        "Давайте сделаем матрицу N*M вручную:\n",
        "\n"
      ],
      "metadata": {
        "id": "CFzpm7qmM3MD"
      }
    },
    {
      "cell_type": "code",
      "source": [
        "import re"
      ],
      "metadata": {
        "id": "zze9DWxVK-Bk"
      },
      "execution_count": null,
      "outputs": []
    },
    {
      "cell_type": "code",
      "source": [
        "unique_words = set()\n",
        "\n",
        "for doc in corpus:\n",
        "  tokens = re.findall(\"\\\\w+\", doc.lower())\n",
        "  for token in tokens:\n",
        "    unique_words.add(token)"
      ],
      "metadata": {
        "id": "TVdQnUbsM11P"
      },
      "execution_count": null,
      "outputs": []
    },
    {
      "cell_type": "code",
      "source": [
        "unique_words = list(unique_words)"
      ],
      "metadata": {
        "id": "6n0HRo-bNjE0"
      },
      "execution_count": null,
      "outputs": []
    },
    {
      "cell_type": "code",
      "source": [
        "len(unique_words)"
      ],
      "metadata": {
        "colab": {
          "base_uri": "https://localhost:8080/"
        },
        "id": "AjmBqU4RNuNh",
        "outputId": "1bd62096-e6db-49e5-dd6c-2809bdd3a0d1"
      },
      "execution_count": null,
      "outputs": [
        {
          "output_type": "execute_result",
          "data": {
            "text/plain": [
              "6"
            ]
          },
          "metadata": {},
          "execution_count": 38
        }
      ]
    },
    {
      "cell_type": "code",
      "source": [
        "unique_words"
      ],
      "metadata": {
        "colab": {
          "base_uri": "https://localhost:8080/"
        },
        "id": "apFUvMnCNho0",
        "outputId": "0045991d-93b9-45f4-be9f-0725375dec33"
      },
      "execution_count": null,
      "outputs": [
        {
          "output_type": "execute_result",
          "data": {
            "text/plain": [
              "['кот', 'черный', 'бегемот', 'шел', 'улице', 'по']"
            ]
          },
          "metadata": {},
          "execution_count": 39
        }
      ]
    },
    {
      "cell_type": "code",
      "source": [
        "def get_vector(doc, unique_words):\n",
        "\n",
        "  tokens = re.findall('\\w+', doc.lower())\n",
        "  vec = []\n",
        "  for word in unique_words:\n",
        "    if word in tokens:\n",
        "      c = tokens.count(word)\n",
        "      vec.append(c)\n",
        "    else:\n",
        "      vec.append(0)\n",
        "\n",
        "  return vec"
      ],
      "metadata": {
        "id": "x0voZZuMN4Jr",
        "outputId": "d6ca1ac1-07d5-4332-9b98-e96317a4498e",
        "colab": {
          "base_uri": "https://localhost:8080/"
        }
      },
      "execution_count": null,
      "outputs": [
        {
          "output_type": "stream",
          "name": "stderr",
          "text": [
            "<>:3: SyntaxWarning: invalid escape sequence '\\w'\n",
            "<>:3: SyntaxWarning: invalid escape sequence '\\w'\n",
            "/tmp/ipython-input-2286643366.py:3: SyntaxWarning: invalid escape sequence '\\w'\n",
            "  tokens = re.findall('\\w+', doc.lower())\n"
          ]
        }
      ]
    },
    {
      "cell_type": "code",
      "source": [
        "get_vector(corpus[2], unique_words)"
      ],
      "metadata": {
        "colab": {
          "base_uri": "https://localhost:8080/"
        },
        "id": "G8zs9eVAPZKj",
        "outputId": "8d0658e1-f1bb-4d2a-c2ae-45b38c4d2ce0"
      },
      "execution_count": null,
      "outputs": [
        {
          "output_type": "execute_result",
          "data": {
            "text/plain": [
              "[1, 1, 0, 1, 1, 1]"
            ]
          },
          "metadata": {},
          "execution_count": 41
        }
      ]
    },
    {
      "cell_type": "markdown",
      "source": [
        "Теперь сделаем то же самое при помощи встроенного в sklearn класса CountVectorizer:"
      ],
      "metadata": {
        "id": "mNtTpVnULY3V"
      }
    },
    {
      "cell_type": "code",
      "source": [
        "from sklearn.feature_extraction.text import CountVectorizer"
      ],
      "metadata": {
        "id": "T7_YpUhOy-tO"
      },
      "execution_count": null,
      "outputs": []
    },
    {
      "cell_type": "code",
      "source": [
        "count = CountVectorizer()"
      ],
      "metadata": {
        "id": "cLQqyxNXz5Ul"
      },
      "execution_count": null,
      "outputs": []
    },
    {
      "cell_type": "code",
      "source": [
        "# это игрушечный пример, в виде исключения вызовем fit_transform на всём корпусе :)\n",
        "count_matrix = count.fit_transform(corpus)"
      ],
      "metadata": {
        "id": "Y-YPA0Dkz-Rd"
      },
      "execution_count": null,
      "outputs": []
    },
    {
      "cell_type": "code",
      "source": [
        "count_matrix"
      ],
      "metadata": {
        "colab": {
          "base_uri": "https://localhost:8080/"
        },
        "id": "8kKIChjN0SN8",
        "outputId": "6a03101d-3131-43a8-85f3-d24d36bcdd78"
      },
      "execution_count": null,
      "outputs": [
        {
          "output_type": "execute_result",
          "data": {
            "text/plain": [
              "<Compressed Sparse Row sparse matrix of dtype 'int64'\n",
              "\twith 12 stored elements and shape (3, 6)>"
            ]
          },
          "metadata": {},
          "execution_count": 45
        }
      ]
    },
    {
      "cell_type": "markdown",
      "source": [
        "Матрица признаков - это разреженная матрица. Превратим ее в плотную, чтобы посмотреть, что внутри (с большими матрицами признаков в реальных задачах так делать не стоит):"
      ],
      "metadata": {
        "id": "WVD4pY6JGlVY"
      }
    },
    {
      "cell_type": "code",
      "source": [
        "count_matrix.todense()"
      ],
      "metadata": {
        "colab": {
          "base_uri": "https://localhost:8080/"
        },
        "id": "XNxyRC810b2j",
        "outputId": "10a3ab2a-7764-4051-8c05-39be997945f5"
      },
      "execution_count": null,
      "outputs": [
        {
          "output_type": "execute_result",
          "data": {
            "text/plain": [
              "matrix([[1, 0, 1, 1, 0, 1],\n",
              "        [1, 1, 0, 0, 1, 0],\n",
              "        [0, 1, 1, 1, 1, 1]])"
            ]
          },
          "metadata": {},
          "execution_count": 46
        }
      ]
    },
    {
      "cell_type": "markdown",
      "source": [
        "Мы видим вполне стандартную матрицу встречаемости слов размера 3*6: 3 документа на 6 уникальных слов. Но как узнать, в какой колонке какое слово? Для этого у векторайзеров есть метод get_feature_names_out():"
      ],
      "metadata": {
        "id": "1GlLhIo70jaJ"
      }
    },
    {
      "cell_type": "code",
      "source": [
        "count.get_feature_names_out()"
      ],
      "metadata": {
        "colab": {
          "base_uri": "https://localhost:8080/"
        },
        "id": "ihLQBKdq0zR0",
        "outputId": "0b97c8e0-66c4-4fee-f3f1-632fbf2a4923"
      },
      "execution_count": null,
      "outputs": [
        {
          "output_type": "execute_result",
          "data": {
            "text/plain": [
              "array(['бегемот', 'кот', 'по', 'улице', 'черный', 'шел'], dtype=object)"
            ]
          },
          "metadata": {},
          "execution_count": 47
        }
      ]
    },
    {
      "cell_type": "markdown",
      "source": [
        "Действительно, если мы посмотрим на первую колонку, то увидим, что она соответствует встречаемости слова \"Бегемот\" в нашем корпусе: оно встретилось в первом и втором документе по одному разу, а в третьем - ни разу."
      ],
      "metadata": {
        "id": "ZNK6KlEW0_EL"
      }
    },
    {
      "cell_type": "markdown",
      "source": [
        "**TfIdfVectorizer** тоже превращает корпус в разреженную матрицу размера N*M. Каждому документу соответствует один ряд матрицы, где в колонках соответствующих слов стоят числа, соответствующие TF-IDF этих слов."
      ],
      "metadata": {
        "id": "vLN4-rZXz1XS"
      }
    },
    {
      "cell_type": "markdown",
      "source": [
        "Вспомним формулу TF-IDF:\n",
        "\n",
        "Считаем, что t - слово, d - документ, D - коллекция документов. Тогда:\n",
        "\n",
        "${TF}(t,d) = \\frac{f_{t,d}}{{\\sum_{t' \\in d}{f_{t',d}}}}$, где f - частота слова, т.е., частота слова в документе по отношению к количеству слов в документе.\n",
        "\n",
        "${IDF}(t, D) =  \\log \\frac{|D|}{|\\{\\,d_i \\in D \\mid t \\in d_{i}\\, \\}|}$, т.е., логарифм отношения числа документов в коллекции к количеству документов, в которых встречается t.\n",
        "\n",
        "Таким образом,\n",
        "\n",
        "$\\operatorname{TF-IDF}(t,d,D) = \\operatorname{TF}(t,d) \\times \\operatorname{IDF}(t, D)$"
      ],
      "metadata": {
        "id": "r_rgyJRoGVMq"
      }
    },
    {
      "cell_type": "code",
      "source": [
        "from sklearn.feature_extraction.text import TfidfVectorizer"
      ],
      "metadata": {
        "id": "KKUVLglkLwCO"
      },
      "execution_count": null,
      "outputs": []
    },
    {
      "cell_type": "code",
      "source": [
        "tfidf_vectorizer = TfidfVectorizer()\n",
        "tfidf_matrix = tfidf_vectorizer.fit_transform(corpus)"
      ],
      "metadata": {
        "id": "A-TZPDBXy7ez"
      },
      "execution_count": null,
      "outputs": []
    },
    {
      "cell_type": "code",
      "source": [
        "tfidf_matrix"
      ],
      "metadata": {
        "colab": {
          "base_uri": "https://localhost:8080/"
        },
        "id": "LgA-CyWLGdnD",
        "outputId": "0f076923-bd4f-47c0-89dc-e078f67cf5c0"
      },
      "execution_count": null,
      "outputs": [
        {
          "output_type": "execute_result",
          "data": {
            "text/plain": [
              "<Compressed Sparse Row sparse matrix of dtype 'float64'\n",
              "\twith 12 stored elements and shape (3, 6)>"
            ]
          },
          "metadata": {},
          "execution_count": 50
        }
      ]
    },
    {
      "cell_type": "code",
      "source": [
        "tfidf_matrix.todense()"
      ],
      "metadata": {
        "colab": {
          "base_uri": "https://localhost:8080/"
        },
        "id": "7sdCQMJsG1R-",
        "outputId": "4eaa930b-dacd-4bfc-d54d-ad6ac28ad484"
      },
      "execution_count": null,
      "outputs": [
        {
          "output_type": "execute_result",
          "data": {
            "text/plain": [
              "matrix([[0.5       , 0.        , 0.5       , 0.5       , 0.        ,\n",
              "         0.5       ],\n",
              "        [0.57735027, 0.57735027, 0.        , 0.        , 0.57735027,\n",
              "         0.        ],\n",
              "        [0.        , 0.4472136 , 0.4472136 , 0.4472136 , 0.4472136 ,\n",
              "         0.4472136 ]])"
            ]
          },
          "metadata": {},
          "execution_count": 51
        }
      ]
    },
    {
      "cell_type": "markdown",
      "source": [
        "Можно видеть, что колонки такие же и расположены в том же порядке:"
      ],
      "metadata": {
        "id": "MkA4VWOY2VM4"
      }
    },
    {
      "cell_type": "code",
      "source": [
        "tfidf_vectorizer.get_feature_names_out()"
      ],
      "metadata": {
        "colab": {
          "base_uri": "https://localhost:8080/"
        },
        "id": "x5l9mn1MG4Jw",
        "outputId": "c0b3ed54-d9a2-4bef-a152-1f17a0b6a6a8"
      },
      "execution_count": null,
      "outputs": [
        {
          "output_type": "execute_result",
          "data": {
            "text/plain": [
              "array(['бегемот', 'кот', 'по', 'улице', 'черный', 'шел'], dtype=object)"
            ]
          },
          "metadata": {},
          "execution_count": 52
        }
      ]
    },
    {
      "cell_type": "markdown",
      "source": [
        "Мы можем посмотреть значения IDF всех слов в словаре в параметре idf_. Но почему значения такие странные, если IDF слова \"Бегемот\", например, log(3/2) ~= 0.4?"
      ],
      "metadata": {
        "id": "GqppG8l5ICAl"
      }
    },
    {
      "cell_type": "code",
      "source": [
        "tfidf_vectorizer.idf_"
      ],
      "metadata": {
        "colab": {
          "base_uri": "https://localhost:8080/"
        },
        "id": "bWCXoF_pMDUp",
        "outputId": "f7e23a46-f23d-4726-96c6-dfc7d60dbd5a"
      },
      "execution_count": null,
      "outputs": [
        {
          "output_type": "execute_result",
          "data": {
            "text/plain": [
              "array([1.28768207, 1.28768207, 1.28768207, 1.28768207, 1.28768207,\n",
              "       1.28768207])"
            ]
          },
          "metadata": {},
          "execution_count": 53
        }
      ]
    },
    {
      "cell_type": "markdown",
      "source": [
        "Всё потому, что, согласно документации, для вычисления IDF в sklearn используется формула $log\\frac{1+n}{1+df(t)} + 1$ (что написано в документации: https://scikit-learn.org/stable/modules/feature_extraction.html#tfidf-term-weighting)."
      ],
      "metadata": {
        "id": "-ioMCtlqPDqC"
      }
    },
    {
      "cell_type": "code",
      "source": [
        "np.log((3+1)/(2+1)) + 1"
      ],
      "metadata": {
        "colab": {
          "base_uri": "https://localhost:8080/"
        },
        "id": "xeCWM9VZVWtL",
        "outputId": "8ce2583b-b92c-4f9e-e509-6a1070c0fc0a"
      },
      "execution_count": null,
      "outputs": [
        {
          "output_type": "execute_result",
          "data": {
            "text/plain": [
              "np.float64(1.2876820724517808)"
            ]
          },
          "metadata": {},
          "execution_count": 54
        }
      ]
    },
    {
      "cell_type": "markdown",
      "source": [
        "Давайте вычислим вектор второго документа в нашей коллекции. Логично, что у всех трёх слов будут одинаковые значения TF-IDF."
      ],
      "metadata": {
        "id": "Hwgm0AO-RDZY"
      }
    },
    {
      "cell_type": "code",
      "source": [
        "vector_2nd_doc = []\n",
        "\n",
        "vocab = tfidf_vectorizer.get_feature_names_out()\n",
        "current_doc = re.findall('\\w+', corpus[1].lower())\n",
        "docs_in_collection = len(corpus)\n",
        "\n",
        "for word in vocab:\n",
        "\n",
        "  if word in current_doc:\n",
        "    words_in_doc = len(current_doc)\n",
        "    current_word_count = current_doc.count(word)\n",
        "    tf = current_word_count/words_in_doc\n",
        "\n",
        "    docs_containing_word = len([d for d in corpus if word in d.lower()])\n",
        "    idf = np.log((docs_in_collection + 1)/(docs_containing_word + 1)) + 1\n",
        "\n",
        "    tfidf = tf * idf\n",
        "    vector_2nd_doc.append(tfidf.item())\n",
        "\n",
        "  else:\n",
        "    vector_2nd_doc.append(0)"
      ],
      "metadata": {
        "id": "2NfqGKsoWpgF",
        "outputId": "c8a22a2c-094a-4665-fec8-fa5b153dbdc9",
        "colab": {
          "base_uri": "https://localhost:8080/"
        }
      },
      "execution_count": null,
      "outputs": [
        {
          "output_type": "stream",
          "name": "stderr",
          "text": [
            "<>:4: SyntaxWarning: invalid escape sequence '\\w'\n",
            "<>:4: SyntaxWarning: invalid escape sequence '\\w'\n",
            "/tmp/ipython-input-2266882712.py:4: SyntaxWarning: invalid escape sequence '\\w'\n",
            "  current_doc = re.findall('\\w+', corpus[1].lower())\n"
          ]
        }
      ]
    },
    {
      "cell_type": "code",
      "source": [
        "vector_2nd_doc"
      ],
      "metadata": {
        "colab": {
          "base_uri": "https://localhost:8080/"
        },
        "id": "NAHJEzuxZofr",
        "outputId": "a3353fbd-dd9d-463c-d93e-d90086daac70"
      },
      "execution_count": null,
      "outputs": [
        {
          "output_type": "execute_result",
          "data": {
            "text/plain": [
              "[0.42922735748392693, 0.42922735748392693, 0, 0, 0.42922735748392693, 0]"
            ]
          },
          "metadata": {},
          "execution_count": 56
        }
      ]
    },
    {
      "cell_type": "markdown",
      "source": [
        "Это всё равно не те цифры, что в матрице. Дело в том, что в это векторайзере для каждого вектора дополнительно применяется нормализация (что тоже указано в [документации](https://scikit-learn.org/stable/modules/feature_extraction.html#tfidf-term-weighting)). Применим ее и для нашего вектора."
      ],
      "metadata": {
        "id": "ye5Mk5E3RfBv"
      }
    },
    {
      "cell_type": "code",
      "source": [
        "from sklearn.preprocessing import normalize"
      ],
      "metadata": {
        "id": "ZPB9yjsRNyD8"
      },
      "execution_count": null,
      "outputs": []
    },
    {
      "cell_type": "code",
      "source": [
        "# преобразим список в массив, чтобы с ним было удобнее работать\n",
        "vector_2nd_doc = np.array(vector_2nd_doc)"
      ],
      "metadata": {
        "id": "KUi0Rh6lVEgn"
      },
      "execution_count": null,
      "outputs": []
    },
    {
      "cell_type": "code",
      "source": [
        "# эта функция работает только с двумерными массивами\n",
        "# так что мы преобразим наш массив формы (3,) в (1, 3) при помощи метода reshape\n",
        "normalize(vector_2nd_doc.reshape(1, -1), norm=\"l2\")"
      ],
      "metadata": {
        "colab": {
          "base_uri": "https://localhost:8080/"
        },
        "id": "RhnPs-JKNyx2",
        "outputId": "568152ba-f96b-4936-c09c-b6bae99cf710"
      },
      "execution_count": null,
      "outputs": [
        {
          "output_type": "execute_result",
          "data": {
            "text/plain": [
              "array([[0.57735027, 0.57735027, 0.        , 0.        , 0.57735027,\n",
              "        0.        ]])"
            ]
          },
          "metadata": {},
          "execution_count": 59
        }
      ]
    },
    {
      "cell_type": "markdown",
      "source": [
        "Таким образом, мы получили числа, похожие на те, что есть в нашей матрице."
      ],
      "metadata": {
        "id": "LY7tDp4cSUo9"
      }
    }
  ]
}